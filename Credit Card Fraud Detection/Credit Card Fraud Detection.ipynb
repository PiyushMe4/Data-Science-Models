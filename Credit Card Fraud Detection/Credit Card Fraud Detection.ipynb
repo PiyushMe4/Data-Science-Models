---
jupyter:
  kernelspec:
    display_name: Python 3 (ipykernel)
    language: python
    name: python3
  language_info:
    codemirror_mode:
      name: ipython
      version: 3
    file_extension: .py
    mimetype: text/x-python
    name: python
    nbconvert_exporter: python
    pygments_lexer: ipython3
    version: 3.13.3
  nbformat: 4
  nbformat_minor: 5
---

::: {#ead55c58-ff94-45bb-8cd2-e3b1b65cdc54 .cell .code execution_count="2"}
``` python
import pandas as pd
import numpy as np
import matplotlib.pyplot as plt
import seaborn as sns
from sklearn.model_selection import train_test_split
from sklearn.preprocessing import StandardScaler
from sklearn.linear_model import LogisticRegression
from sklearn.ensemble import RandomForestClassifier
from sklearn.metrics import classification_report, confusion_matrix, precision_recall_curve, auc
from imblearn.over_sampling import SMOTE
```
:::

::: {#06e7de08-40bc-4999-8353-de9a42351f2e .cell .code execution_count="3"}
``` python
sns.set(style="whitegrid")
```
:::

::: {#0a28340a-4d95-4be0-8294-4b2d175ee813 .cell .code execution_count="4"}
``` python
df = pd.read_csv("creditcard.csv")
print("Data shape:", df.shape)
df.head()
```

::: {.output .stream .stdout}
    Data shape: (284807, 31)
:::

::: {.output .execute_result execution_count="4"}
```{=html}
<div>
<style scoped>
    .dataframe tbody tr th:only-of-type {
        vertical-align: middle;
    }

    .dataframe tbody tr th {
        vertical-align: top;
    }

    .dataframe thead th {
        text-align: right;
    }
</style>
<table border="1" class="dataframe">
  <thead>
    <tr style="text-align: right;">
      <th></th>
      <th>Time</th>
      <th>V1</th>
      <th>V2</th>
      <th>V3</th>
      <th>V4</th>
      <th>V5</th>
      <th>V6</th>
      <th>V7</th>
      <th>V8</th>
      <th>V9</th>
      <th>...</th>
      <th>V21</th>
      <th>V22</th>
      <th>V23</th>
      <th>V24</th>
      <th>V25</th>
      <th>V26</th>
      <th>V27</th>
      <th>V28</th>
      <th>Amount</th>
      <th>Class</th>
    </tr>
  </thead>
  <tbody>
    <tr>
      <th>0</th>
      <td>0.0</td>
      <td>-1.359807</td>
      <td>-0.072781</td>
      <td>2.536347</td>
      <td>1.378155</td>
      <td>-0.338321</td>
      <td>0.462388</td>
      <td>0.239599</td>
      <td>0.098698</td>
      <td>0.363787</td>
      <td>...</td>
      <td>-0.018307</td>
      <td>0.277838</td>
      <td>-0.110474</td>
      <td>0.066928</td>
      <td>0.128539</td>
      <td>-0.189115</td>
      <td>0.133558</td>
      <td>-0.021053</td>
      <td>149.62</td>
      <td>0</td>
    </tr>
    <tr>
      <th>1</th>
      <td>0.0</td>
      <td>1.191857</td>
      <td>0.266151</td>
      <td>0.166480</td>
      <td>0.448154</td>
      <td>0.060018</td>
      <td>-0.082361</td>
      <td>-0.078803</td>
      <td>0.085102</td>
      <td>-0.255425</td>
      <td>...</td>
      <td>-0.225775</td>
      <td>-0.638672</td>
      <td>0.101288</td>
      <td>-0.339846</td>
      <td>0.167170</td>
      <td>0.125895</td>
      <td>-0.008983</td>
      <td>0.014724</td>
      <td>2.69</td>
      <td>0</td>
    </tr>
    <tr>
      <th>2</th>
      <td>1.0</td>
      <td>-1.358354</td>
      <td>-1.340163</td>
      <td>1.773209</td>
      <td>0.379780</td>
      <td>-0.503198</td>
      <td>1.800499</td>
      <td>0.791461</td>
      <td>0.247676</td>
      <td>-1.514654</td>
      <td>...</td>
      <td>0.247998</td>
      <td>0.771679</td>
      <td>0.909412</td>
      <td>-0.689281</td>
      <td>-0.327642</td>
      <td>-0.139097</td>
      <td>-0.055353</td>
      <td>-0.059752</td>
      <td>378.66</td>
      <td>0</td>
    </tr>
    <tr>
      <th>3</th>
      <td>1.0</td>
      <td>-0.966272</td>
      <td>-0.185226</td>
      <td>1.792993</td>
      <td>-0.863291</td>
      <td>-0.010309</td>
      <td>1.247203</td>
      <td>0.237609</td>
      <td>0.377436</td>
      <td>-1.387024</td>
      <td>...</td>
      <td>-0.108300</td>
      <td>0.005274</td>
      <td>-0.190321</td>
      <td>-1.175575</td>
      <td>0.647376</td>
      <td>-0.221929</td>
      <td>0.062723</td>
      <td>0.061458</td>
      <td>123.50</td>
      <td>0</td>
    </tr>
    <tr>
      <th>4</th>
      <td>2.0</td>
      <td>-1.158233</td>
      <td>0.877737</td>
      <td>1.548718</td>
      <td>0.403034</td>
      <td>-0.407193</td>
      <td>0.095921</td>
      <td>0.592941</td>
      <td>-0.270533</td>
      <td>0.817739</td>
      <td>...</td>
      <td>-0.009431</td>
      <td>0.798278</td>
      <td>-0.137458</td>
      <td>0.141267</td>
      <td>-0.206010</td>
      <td>0.502292</td>
      <td>0.219422</td>
      <td>0.215153</td>
      <td>69.99</td>
      <td>0</td>
    </tr>
  </tbody>
</table>
<p>5 rows × 31 columns</p>
</div>
```
:::
:::

::: {#11d41480-c60b-4dba-88d3-99d412a34cf5 .cell .code execution_count="5"}
``` python
df['Amount'] = StandardScaler().fit_transform(df[['Amount']])
df = df.drop(['Time'], axis=1)

X = df.drop('Class', axis=1)
y = df['Class']
```
:::

::: {#e22ce899-28e7-429e-9797-196015e862e3 .cell .code execution_count="6"}
``` python
print("Original class distribution:")
print(y.value_counts())

smote = SMOTE(random_state=42)
X_resampled, y_resampled = smote.fit_resample(X, y)

print("\nResampled class distribution:")
print(pd.Series(y_resampled).value_counts())
```

::: {.output .stream .stdout}
    Original class distribution:
    Class
    0    284315
    1       492
    Name: count, dtype: int64

    Resampled class distribution:
    Class
    0    284315
    1    284315
    Name: count, dtype: int64
:::
:::

::: {#8facc1fd-ec6f-44de-b9ba-147c8961a90a .cell .code execution_count="7"}
``` python
X_train, X_test, y_train, y_test = train_test_split(
    X_resampled, y_resampled, test_size=0.3, random_state=42, stratify=y_resampled)

model = RandomForestClassifier(n_estimators=100, random_state=42)
model.fit(X_train, y_train)

y_pred = model.predict(X_test)
y_proba = model.predict_proba(X_test)[:, 1]  

train_df = pd.DataFrame(X_resampled, columns=X.columns)
train_df['Class'] = y_resampled.values
train_df.to_csv('training_dataset.csv', index=False)
print("Saved: 'training_dataset.csv' with SMOTE-resampled training data")

test_df = X_test.copy()
test_df['True_Class'] = y_test.values
test_df['Predicted_Class'] = y_pred
test_df['Fraud_Probability'] = y_proba
test_df.to_csv('test_dataset.csv', index=False)
print("Saved: 'test_dataset.csv' with test predictions and fraud probability")

fraud_df = test_df[(test_df['True_Class'] == 1) | (test_df['Predicted_Class'] == 1)]
fraud_df.to_csv('fraud_cases_only.csv', index=False)
print("Saved: 'fraud_cases_only.csv' containing actual or predicted frauds only")
```

::: {.output .stream .stdout}
    Saved: 'training_dataset.csv' with SMOTE-resampled training data
    Saved: 'test_dataset.csv' with test predictions and fraud probability
    Saved: 'fraud_cases_only.csv' containing actual or predicted frauds only
:::
:::

::: {#74711147-0192-42c4-be28-dbce1d7cbb7a .cell .code execution_count="8"}
``` python
y_pred = model.predict(X_test)
print("\nClassification Report:")
print(classification_report(y_test, y_pred))

print("Confusion Matrix:")
cm = confusion_matrix(y_test, y_pred)
sns.heatmap(cm, annot=True, fmt='d', cmap='Blues')
plt.title("Confusion Matrix")
plt.xlabel("Predicted")
plt.ylabel("Actual")
plt.show()
```

::: {.output .stream .stdout}

    Classification Report:
                  precision    recall  f1-score   support

               0       1.00      1.00      1.00     85295
               1       1.00      1.00      1.00     85294

        accuracy                           1.00    170589
       macro avg       1.00      1.00      1.00    170589
    weighted avg       1.00      1.00      1.00    170589

    Confusion Matrix:
:::

::: {.output .display_data}
![](vertopal_2af0b620a63b465eae3718609fc1f13f/902db75577507b98c7bbbb927544b2adeef6a1d0.png)
:::
:::

::: {#968f2873-0e1c-44c5-a413-b5f5a77cbbe2 .cell .code execution_count="9"}
``` python
probs = model.predict_proba(X_test)[:, 1]
precision, recall, _ = precision_recall_curve(y_test, probs)
prc_auc = auc(recall, precision)

plt.plot(recall, precision, label=f'AUPRC = {prc_auc:.4f}')
plt.xlabel('Recall')
plt.ylabel('Precision')
plt.title('Precision-Recall Curve')
plt.legend()
plt.grid(True)
plt.show()
```

::: {.output .display_data}
![](vertopal_2af0b620a63b465eae3718609fc1f13f/998320048a449a602a4d6636fcf8d19cf6adf55b.png)
:::
:::

::: {#6a0155c4-d2fd-41c1-8b68-3eea0f13ee4b .cell .code execution_count="10"}
``` python
df['Predicted_Class'] = model.predict(X)
df[['Amount', 'Class', 'Predicted_Class']].head(10)
```

::: {.output .execute_result execution_count="10"}
```{=html}
<div>
<style scoped>
    .dataframe tbody tr th:only-of-type {
        vertical-align: middle;
    }

    .dataframe tbody tr th {
        vertical-align: top;
    }

    .dataframe thead th {
        text-align: right;
    }
</style>
<table border="1" class="dataframe">
  <thead>
    <tr style="text-align: right;">
      <th></th>
      <th>Amount</th>
      <th>Class</th>
      <th>Predicted_Class</th>
    </tr>
  </thead>
  <tbody>
    <tr>
      <th>0</th>
      <td>0.244964</td>
      <td>0</td>
      <td>0</td>
    </tr>
    <tr>
      <th>1</th>
      <td>-0.342475</td>
      <td>0</td>
      <td>0</td>
    </tr>
    <tr>
      <th>2</th>
      <td>1.160686</td>
      <td>0</td>
      <td>0</td>
    </tr>
    <tr>
      <th>3</th>
      <td>0.140534</td>
      <td>0</td>
      <td>0</td>
    </tr>
    <tr>
      <th>4</th>
      <td>-0.073403</td>
      <td>0</td>
      <td>0</td>
    </tr>
    <tr>
      <th>5</th>
      <td>-0.338556</td>
      <td>0</td>
      <td>0</td>
    </tr>
    <tr>
      <th>6</th>
      <td>-0.333279</td>
      <td>0</td>
      <td>0</td>
    </tr>
    <tr>
      <th>7</th>
      <td>-0.190107</td>
      <td>0</td>
      <td>0</td>
    </tr>
    <tr>
      <th>8</th>
      <td>0.019392</td>
      <td>0</td>
      <td>0</td>
    </tr>
    <tr>
      <th>9</th>
      <td>-0.338516</td>
      <td>0</td>
      <td>0</td>
    </tr>
  </tbody>
</table>
</div>
```
:::
:::

::: {#67cd7312-8306-4586-90aa-0abffb7d644a .cell .code execution_count="11"}
``` python
import joblib

joblib.dump(model, 'credit_fraud_model.pkl')
print("Model saved as 'credit_fraud_model.pkl'")
```

::: {.output .stream .stdout}
    Model saved as 'credit_fraud_model.pkl'
:::
:::

::: {#5bbdce19-3066-45f7-afa0-990b7982f496 .cell .code execution_count="12"}
``` python
df['Predicted_Class'] = model.predict(X)
df['Fraud_Probability'] = model.predict_proba(X)[:, 1]
df[['Amount', 'Class', 'Predicted_Class', 'Fraud_Probability']].to_csv('all_predictions_with_probabilities.csv', index=False)
print("Saved all predictions with probabilities to 'all_predictions_with_probabilities.csv'")
```

::: {.output .stream .stdout}
    Saved all predictions with probabilities to 'all_predictions_with_probabilities.csv'
:::
:::

::: {#3bfeb9a9-3b42-423d-ae28-bd81fb1210ac .cell .code execution_count="26"}
``` python
fig, ax = plt.subplots(1, 2, figsize=(10, 5))

sns.countplot(x=y, ax=ax[0], color='purple')
ax[0].set_title('Original Class Distribution')
ax[0].set_xlabel('Class')
ax[0].set_ylabel('Count')

sns.countplot(x=y_resampled, ax=ax[1], color='lightgreen')
ax[1].set_title('SMOTE Resampled Class Distribution')
ax[1].set_xlabel('Class')
ax[1].set_ylabel('Count')

plt.suptitle('Before and After Resampling', fontsize=14)
plt.tight_layout()
plt.show()
```

::: {.output .display_data}
![](vertopal_2af0b620a63b465eae3718609fc1f13f/fcb398283e5506777459d4e5eef8c80af49bb379.png)
:::
:::

::: {#3ba028c5-db88-4c4d-a364-0af47e9f6944 .cell .code execution_count="23"}
``` python
importances = model.feature_importances_
features = X.columns

top_idx = np.argsort(importances)[-10:]
top_features = features[top_idx]
top_importances = importances[top_idx]

plt.figure(figsize=(10, 6))
sns.barplot(x=top_importances, y=top_features, color='skyblue')
plt.title('Top 10 Important Features')
plt.xlabel('Importance Score')
plt.ylabel('Feature')
plt.grid(True, linestyle='--', alpha=0.5)
plt.tight_layout()
plt.show()
```

::: {.output .display_data}
![](vertopal_2af0b620a63b465eae3718609fc1f13f/994c02cc5fd8c8b52aa6505e14c86379ea6055a8.png)
:::
:::

::: {#c481e56b-058e-47d4-907d-588920a2bc80 .cell .code execution_count="15"}
``` python
# Confusion matrix with annotations
plt.figure(figsize=(6, 5))
sns.heatmap(confusion_matrix(y_test, y_pred), annot=True, fmt='d', cmap='coolwarm', cbar=False,
            xticklabels=['Genuine', 'Fraudulent'], yticklabels=['Genuine', 'Fraudulent'])
plt.title('Confusion Matrix - Test Data')
plt.xlabel('Predicted Class')
plt.ylabel('Actual Class')
plt.tight_layout()
plt.show()
```

::: {.output .display_data}
![](vertopal_2af0b620a63b465eae3718609fc1f13f/72b96dedca31be77f3601b1664aa09c98796e950.png)
:::
:::

::: {#bc425296-f3e1-45aa-8980-6712123f3eba .cell .code execution_count="16"}
``` python
plt.figure(figsize=(8, 5))
sns.histplot(df[df['Class'] == 1]['Fraud_Probability'], bins=30, color='red', label='Actual Frauds', kde=True)
sns.histplot(df[df['Class'] == 0]['Fraud_Probability'], bins=30, color='green', label='Genuine Transactions', kde=True)
plt.title('Distribution of Predicted Fraud Probabilities')
plt.xlabel('Fraud Probability Score')
plt.ylabel('Transaction Count')
plt.legend()
plt.tight_layout()
plt.show()
```

::: {.output .display_data}
![](vertopal_2af0b620a63b465eae3718609fc1f13f/cbc3fc9dc6f55211cc7ba077a2ec8e50d0835b65.png)
:::
:::

::: {#56151da8-6869-446c-9fbd-ba8aa6bcd36b .cell .code execution_count="22"}
``` python
top_suspicious = test_df.sort_values(by='Fraud_Probability', ascending=False).head(10)
top_suspicious_display = top_suspicious[['Amount', 'True_Class', 'Predicted_Class', 'Fraud_Probability']]

print("Top 10 Most Suspicious Transactions Based on Model:")
top_suspicious_display.reset_index(drop=True, inplace=True)
top_suspicious_display
```

::: {.output .stream .stdout}
    Top 10 Most Suspicious Transactions Based on Model:
:::

::: {.output .execute_result execution_count="22"}
```{=html}
<div>
<style scoped>
    .dataframe tbody tr th:only-of-type {
        vertical-align: middle;
    }

    .dataframe tbody tr th {
        vertical-align: top;
    }

    .dataframe thead th {
        text-align: right;
    }
</style>
<table border="1" class="dataframe">
  <thead>
    <tr style="text-align: right;">
      <th></th>
      <th>Amount</th>
      <th>True_Class</th>
      <th>Predicted_Class</th>
      <th>Fraud_Probability</th>
    </tr>
  </thead>
  <tbody>
    <tr>
      <th>0</th>
      <td>-0.352006</td>
      <td>1</td>
      <td>1</td>
      <td>1.0</td>
    </tr>
    <tr>
      <th>1</th>
      <td>-0.349231</td>
      <td>1</td>
      <td>1</td>
      <td>1.0</td>
    </tr>
    <tr>
      <th>2</th>
      <td>0.046539</td>
      <td>1</td>
      <td>1</td>
      <td>1.0</td>
    </tr>
    <tr>
      <th>3</th>
      <td>0.379715</td>
      <td>1</td>
      <td>1</td>
      <td>1.0</td>
    </tr>
    <tr>
      <th>4</th>
      <td>-0.218654</td>
      <td>1</td>
      <td>1</td>
      <td>1.0</td>
    </tr>
    <tr>
      <th>5</th>
      <td>-0.181908</td>
      <td>1</td>
      <td>1</td>
      <td>1.0</td>
    </tr>
    <tr>
      <th>6</th>
      <td>-0.138453</td>
      <td>1</td>
      <td>1</td>
      <td>1.0</td>
    </tr>
    <tr>
      <th>7</th>
      <td>-0.337185</td>
      <td>1</td>
      <td>1</td>
      <td>1.0</td>
    </tr>
    <tr>
      <th>8</th>
      <td>-0.349231</td>
      <td>1</td>
      <td>1</td>
      <td>1.0</td>
    </tr>
    <tr>
      <th>9</th>
      <td>-0.122799</td>
      <td>1</td>
      <td>1</td>
      <td>1.0</td>
    </tr>
  </tbody>
</table>
</div>
```
:::
:::

::: {#d7249d08-4273-4c17-ab69-e2b57e0695d3 .cell .code}
``` python
```
:::
